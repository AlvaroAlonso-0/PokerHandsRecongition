{
 "cells": [
  {
   "cell_type": "code",
   "execution_count": 1,
   "metadata": {},
   "outputs": [
    {
     "name": "stderr",
     "output_type": "stream",
     "text": [
      "2023-04-12 17:46:05.826823: I tensorflow/core/platform/cpu_feature_guard.cc:193] This TensorFlow binary is optimized with oneAPI Deep Neural Network Library (oneDNN) to use the following CPU instructions in performance-critical operations:  AVX2 FMA\n",
      "To enable them in other operations, rebuild TensorFlow with the appropriate compiler flags.\n"
     ]
    }
   ],
   "source": [
    "import tensorflow as tf\n",
    "from tensorflow import keras\n",
    "from keras import layers\n",
    "from keras.applications.vgg16 import VGG16\n",
    "\n",
    "from keras.models import Sequential\n",
    "from keras.layers import Dense, Flatten, GlobalAveragePooling2D\n",
    "from keras.preprocessing.image import ImageDataGenerator\n",
    "from keras.models import Model"
   ]
  },
  {
   "attachments": {},
   "cell_type": "markdown",
   "metadata": {},
   "source": [
    "Modelo valor"
   ]
  },
  {
   "cell_type": "code",
   "execution_count": 43,
   "metadata": {},
   "outputs": [
    {
     "name": "stdout",
     "output_type": "stream",
     "text": [
      "Model: \"model_2\"\n",
      "_________________________________________________________________\n",
      " Layer (type)                Output Shape              Param #   \n",
      "=================================================================\n",
      " input_3 (InputLayer)        [(None, 224, 150, 3)]     0         \n",
      "                                                                 \n",
      " block1_conv1 (Conv2D)       (None, 224, 150, 64)      1792      \n",
      "                                                                 \n",
      " block1_conv2 (Conv2D)       (None, 224, 150, 64)      36928     \n",
      "                                                                 \n",
      " block1_pool (MaxPooling2D)  (None, 112, 75, 64)       0         \n",
      "                                                                 \n",
      " block2_conv1 (Conv2D)       (None, 112, 75, 128)      73856     \n",
      "                                                                 \n",
      " block2_conv2 (Conv2D)       (None, 112, 75, 128)      147584    \n",
      "                                                                 \n",
      " block2_pool (MaxPooling2D)  (None, 56, 37, 128)       0         \n",
      "                                                                 \n",
      " block3_conv1 (Conv2D)       (None, 56, 37, 256)       295168    \n",
      "                                                                 \n",
      " block3_conv2 (Conv2D)       (None, 56, 37, 256)       590080    \n",
      "                                                                 \n",
      " block3_conv3 (Conv2D)       (None, 56, 37, 256)       590080    \n",
      "                                                                 \n",
      " block3_pool (MaxPooling2D)  (None, 28, 18, 256)       0         \n",
      "                                                                 \n",
      " block4_conv1 (Conv2D)       (None, 28, 18, 512)       1180160   \n",
      "                                                                 \n",
      " block4_conv2 (Conv2D)       (None, 28, 18, 512)       2359808   \n",
      "                                                                 \n",
      " block4_conv3 (Conv2D)       (None, 28, 18, 512)       2359808   \n",
      "                                                                 \n",
      " block4_pool (MaxPooling2D)  (None, 14, 9, 512)        0         \n",
      "                                                                 \n",
      " block5_conv1 (Conv2D)       (None, 14, 9, 512)        2359808   \n",
      "                                                                 \n",
      " block5_conv2 (Conv2D)       (None, 14, 9, 512)        2359808   \n",
      "                                                                 \n",
      " block5_conv3 (Conv2D)       (None, 14, 9, 512)        2359808   \n",
      "                                                                 \n",
      " block5_pool (MaxPooling2D)  (None, 7, 4, 512)         0         \n",
      "                                                                 \n",
      " flatten_1 (Flatten)         (None, 14336)             0         \n",
      "                                                                 \n",
      " dense_4 (Dense)             (None, 1024)              14681088  \n",
      "                                                                 \n",
      " dense_5 (Dense)             (None, 13)                13325     \n",
      "                                                                 \n",
      "=================================================================\n",
      "Total params: 29,409,101\n",
      "Trainable params: 14,694,413\n",
      "Non-trainable params: 14,714,688\n",
      "_________________________________________________________________\n"
     ]
    }
   ],
   "source": [
    "# Charge model VGC16 with imagenet weights\n",
    "model_vgc = VGG16(weights='imagenet', include_top=False, input_shape=(224, 150, 3))\n",
    "for(layer) in model_vgc.layers:\n",
    "    layer.trainable = False\n",
    "\n",
    "x = model_vgc.output\n",
    "x = Flatten()(x)\n",
    "x = Dense(1024, activation='relu')(x)\n",
    "x = Dense(13, activation='softmax')(x)  \n",
    "\n",
    "model = Model(inputs=model_vgc.input, outputs=x)\n",
    "model.compile(optimizer='adam', loss='categorical_crossentropy', metrics=['accuracy'])\n",
    "model.summary()\n"
   ]
  },
  {
   "cell_type": "markdown",
   "metadata": {},
   "source": []
  },
  {
   "cell_type": "code",
   "execution_count": 44,
   "metadata": {},
   "outputs": [
    {
     "name": "stdout",
     "output_type": "stream",
     "text": [
      "Found 65 images belonging to 13 classes.\n",
      "Found 13 images belonging to 13 classes.\n",
      "{'10': 0, '2': 1, '3': 2, '4': 3, '5': 4, '6': 5, '7': 6, '8': 7, '9': 8, 'A': 9, 'J': 10, 'K': 11, 'Q': 12}\n"
     ]
    }
   ],
   "source": [
    "folder = 'images/training/labeled/'\n",
    "from keras.applications.vgg16 import preprocess_input\n",
    "\n",
    "# Data generator\n",
    "datagen = ImageDataGenerator(preprocessing_function=preprocess_input, horizontal_flip=True, validation_split=0.2)\n",
    "train_generator = datagen.flow_from_directory(folder, target_size=(224, 150), batch_size=13, class_mode='categorical', subset='training')\n",
    "test_generator = datagen.flow_from_directory(folder, target_size=(224, 150), batch_size=13, class_mode='categorical', subset='validation')\n",
    "\n",
    "print(test_generator.class_indices)\n"
   ]
  },
  {
   "cell_type": "code",
   "execution_count": 45,
   "metadata": {},
   "outputs": [
    {
     "name": "stdout",
     "output_type": "stream",
     "text": [
      "Epoch 1/10\n"
     ]
    },
    {
     "name": "stderr",
     "output_type": "stream",
     "text": [
      "/var/folders/vb/vzpmbxtd0j3gyd335m8bdw_h0000gn/T/ipykernel_14070/3671890123.py:1: UserWarning: `Model.fit_generator` is deprecated and will be removed in a future version. Please use `Model.fit`, which supports generators.\n",
      "  history = model.fit_generator(train_generator, epochs=10, validation_data=test_generator)\n"
     ]
    },
    {
     "name": "stdout",
     "output_type": "stream",
     "text": [
      "5/5 [==============================] - 12s 2s/step - loss: 48.6038 - accuracy: 0.3385 - val_loss: 52.6176 - val_accuracy: 0.3077\n",
      "Epoch 2/10\n",
      "5/5 [==============================] - 12s 3s/step - loss: 23.1754 - accuracy: 0.6615 - val_loss: 8.2284 - val_accuracy: 0.7692\n",
      "Epoch 3/10\n",
      "5/5 [==============================] - 10s 2s/step - loss: 4.4006 - accuracy: 0.9077 - val_loss: 1.4500 - val_accuracy: 0.9231\n",
      "Epoch 4/10\n",
      "5/5 [==============================] - 12s 3s/step - loss: 0.9895 - accuracy: 0.9692 - val_loss: 1.7791 - val_accuracy: 0.9231\n",
      "Epoch 5/10\n",
      "5/5 [==============================] - 12s 2s/step - loss: 0.5066 - accuracy: 0.9692 - val_loss: 0.0000e+00 - val_accuracy: 1.0000\n",
      "Epoch 6/10\n",
      "5/5 [==============================] - 10s 2s/step - loss: 0.0000e+00 - accuracy: 1.0000 - val_loss: 0.0000e+00 - val_accuracy: 1.0000\n",
      "Epoch 7/10\n",
      "5/5 [==============================] - 11s 2s/step - loss: 0.0000e+00 - accuracy: 1.0000 - val_loss: 0.0000e+00 - val_accuracy: 1.0000\n",
      "Epoch 8/10\n",
      "5/5 [==============================] - 10s 2s/step - loss: 0.0000e+00 - accuracy: 1.0000 - val_loss: 0.0000e+00 - val_accuracy: 1.0000\n",
      "Epoch 9/10\n",
      "5/5 [==============================] - 10s 2s/step - loss: 0.0000e+00 - accuracy: 1.0000 - val_loss: 0.0000e+00 - val_accuracy: 1.0000\n",
      "Epoch 10/10\n",
      "5/5 [==============================] - 10s 2s/step - loss: 0.0000e+00 - accuracy: 1.0000 - val_loss: 0.0000e+00 - val_accuracy: 1.0000\n"
     ]
    }
   ],
   "source": [
    "history = model.fit_generator(train_generator, epochs=10, validation_data=test_generator)"
   ]
  },
  {
   "cell_type": "code",
   "execution_count": 47,
   "metadata": {},
   "outputs": [],
   "source": [
    "model.save('model_value_1024.h5')"
   ]
  },
  {
   "cell_type": "code",
   "execution_count": 48,
   "metadata": {},
   "outputs": [],
   "source": [
    "def decode_predictions_custom(preds, top=3, class_list=None):\n",
    "    if class_list is None:\n",
    "        class_list = ['10','2', '3', '4', '5', '6', '7', '8', '9', 'A', 'J', 'K', 'Q']\n",
    "        \n",
    "    results = []\n",
    "    for pred in preds:\n",
    "        top_indices = pred.argsort()[-top:][::-1]\n",
    "        result = [(class_list[i], pred[i]*100.0) for i in top_indices]\n",
    "        results.append(result)\n",
    "    return results"
   ]
  },
  {
   "cell_type": "code",
   "execution_count": 60,
   "metadata": {},
   "outputs": [
    {
     "name": "stdout",
     "output_type": "stream",
     "text": [
      "1/1 [==============================] - 0s 142ms/step\n",
      "[[('2', 99.99998807907104), ('3', 1.279527168662753e-05), ('Q', 0.0)]]\n"
     ]
    }
   ],
   "source": [
    "import cv2\n",
    "import numpy as np\n",
    "\n",
    "from tensorflow.keras.preprocessing import image\n",
    "\n",
    "var = cv2.imread('Prueba7.png')\n",
    "var_resized = cv2.resize(var, (150, 224))\n",
    "\n",
    "var_resized = image.img_to_array(var_resized)\n",
    "var_resized = np.expand_dims(var_resized, axis=0)\n",
    "var_resized = preprocess_input(var_resized)\n",
    "pretiction = model.predict(var_resized)\n",
    "\n",
    "decoded = decode_predictions_custom(pretiction)\n",
    "print(decoded)\n"
   ]
  }
 ],
 "metadata": {
  "kernelspec": {
   "display_name": "Python 3",
   "language": "python",
   "name": "python3"
  },
  "language_info": {
   "codemirror_mode": {
    "name": "ipython",
    "version": 3
   },
   "file_extension": ".py",
   "mimetype": "text/x-python",
   "name": "python",
   "nbconvert_exporter": "python",
   "pygments_lexer": "ipython3",
   "version": "3.9.16"
  },
  "orig_nbformat": 4
 },
 "nbformat": 4,
 "nbformat_minor": 2
}

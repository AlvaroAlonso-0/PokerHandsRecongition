{
 "cells": [
  {
   "cell_type": "code",
   "execution_count": 2,
   "metadata": {},
   "outputs": [],
   "source": [
    "import tensorflow as tf\n",
    "from tensorflow import keras\n",
    "from keras import layers\n",
    "from keras.applications.vgg16 import VGG16\n",
    "\n",
    "from keras.models import Sequential\n",
    "from keras.layers import Dense, Flatten, GlobalAveragePooling2D\n",
    "from keras.preprocessing.image import ImageDataGenerator\n",
    "from keras.models import Model"
   ]
  },
  {
   "attachments": {},
   "cell_type": "markdown",
   "metadata": {},
   "source": [
    "Modelo valor"
   ]
  },
  {
   "cell_type": "code",
   "execution_count": 3,
   "metadata": {},
   "outputs": [
    {
     "name": "stderr",
     "output_type": "stream",
     "text": [
      "2023-05-01 12:57:12.097026: I tensorflow/core/platform/cpu_feature_guard.cc:193] This TensorFlow binary is optimized with oneAPI Deep Neural Network Library (oneDNN) to use the following CPU instructions in performance-critical operations:  AVX2 FMA\n",
      "To enable them in other operations, rebuild TensorFlow with the appropriate compiler flags.\n"
     ]
    },
    {
     "name": "stdout",
     "output_type": "stream",
     "text": [
      "Model: \"model\"\n",
      "_________________________________________________________________\n",
      " Layer (type)                Output Shape              Param #   \n",
      "=================================================================\n",
      " input_1 (InputLayer)        [(None, 224, 150, 3)]     0         \n",
      "                                                                 \n",
      " block1_conv1 (Conv2D)       (None, 224, 150, 64)      1792      \n",
      "                                                                 \n",
      " block1_conv2 (Conv2D)       (None, 224, 150, 64)      36928     \n",
      "                                                                 \n",
      " block1_pool (MaxPooling2D)  (None, 112, 75, 64)       0         \n",
      "                                                                 \n",
      " block2_conv1 (Conv2D)       (None, 112, 75, 128)      73856     \n",
      "                                                                 \n",
      " block2_conv2 (Conv2D)       (None, 112, 75, 128)      147584    \n",
      "                                                                 \n",
      " block2_pool (MaxPooling2D)  (None, 56, 37, 128)       0         \n",
      "                                                                 \n",
      " block3_conv1 (Conv2D)       (None, 56, 37, 256)       295168    \n",
      "                                                                 \n",
      " block3_conv2 (Conv2D)       (None, 56, 37, 256)       590080    \n",
      "                                                                 \n",
      " block3_conv3 (Conv2D)       (None, 56, 37, 256)       590080    \n",
      "                                                                 \n",
      " block3_pool (MaxPooling2D)  (None, 28, 18, 256)       0         \n",
      "                                                                 \n",
      " block4_conv1 (Conv2D)       (None, 28, 18, 512)       1180160   \n",
      "                                                                 \n",
      " block4_conv2 (Conv2D)       (None, 28, 18, 512)       2359808   \n",
      "                                                                 \n",
      " block4_conv3 (Conv2D)       (None, 28, 18, 512)       2359808   \n",
      "                                                                 \n",
      " block4_pool (MaxPooling2D)  (None, 14, 9, 512)        0         \n",
      "                                                                 \n",
      " block5_conv1 (Conv2D)       (None, 14, 9, 512)        2359808   \n",
      "                                                                 \n",
      " block5_conv2 (Conv2D)       (None, 14, 9, 512)        2359808   \n",
      "                                                                 \n",
      " block5_conv3 (Conv2D)       (None, 14, 9, 512)        2359808   \n",
      "                                                                 \n",
      " block5_pool (MaxPooling2D)  (None, 7, 4, 512)         0         \n",
      "                                                                 \n",
      " flatten (Flatten)           (None, 14336)             0         \n",
      "                                                                 \n",
      " dense (Dense)               (None, 2048)              29362176  \n",
      "                                                                 \n",
      " dense_1 (Dense)             (None, 52)                106548    \n",
      "                                                                 \n",
      "=================================================================\n",
      "Total params: 44,183,412\n",
      "Trainable params: 29,468,724\n",
      "Non-trainable params: 14,714,688\n",
      "_________________________________________________________________\n"
     ]
    }
   ],
   "source": [
    "# Charge model VGC16 with imagenet weights\n",
    "model_vgc = VGG16(weights='imagenet', include_top=False, input_shape=(224, 150, 3))\n",
    "for(layer) in model_vgc.layers:\n",
    "    layer.trainable = False\n",
    "\n",
    "x = model_vgc.output\n",
    "x = Flatten()(x)\n",
    "x = Dense(2048, activation='relu')(x)\n",
    "x = Dense(52, activation='softmax')(x)  \n",
    "\n",
    "model = Model(inputs=model_vgc.input, outputs=x)\n",
    "model.compile(optimizer='adam', loss='categorical_crossentropy', metrics=['accuracy'])\n",
    "model.summary()\n"
   ]
  },
  {
   "cell_type": "markdown",
   "metadata": {},
   "source": []
  },
  {
   "cell_type": "code",
   "execution_count": 4,
   "metadata": {},
   "outputs": [
    {
     "name": "stdout",
     "output_type": "stream",
     "text": [
      "Found 2080 images belonging to 52 classes.\n",
      "Found 520 images belonging to 52 classes.\n",
      "{'C10': 0, 'C2': 1, 'C3': 2, 'C4': 3, 'C5': 4, 'C6': 5, 'C7': 6, 'C8': 7, 'C9': 8, 'CA': 9, 'CJ': 10, 'CK': 11, 'CQ': 12, 'D10': 13, 'D2': 14, 'D3': 15, 'D4': 16, 'D5': 17, 'D6': 18, 'D7': 19, 'D8': 20, 'D9': 21, 'DA': 22, 'DJ': 23, 'DK': 24, 'DQ': 25, 'H10': 26, 'H2': 27, 'H3': 28, 'H4': 29, 'H5': 30, 'H6': 31, 'H7': 32, 'H8': 33, 'H9': 34, 'HA': 35, 'HJ': 36, 'HK': 37, 'HQ': 38, 'S10': 39, 'S2': 40, 'S3': 41, 'S4': 42, 'S5': 43, 'S6': 44, 'S7': 45, 'S8': 46, 'S9': 47, 'SA': 48, 'SJ': 49, 'SK': 50, 'SQ': 51}\n"
     ]
    }
   ],
   "source": [
    "folder = 'images/training/labeled/'\n",
    "from keras.applications.vgg16 import preprocess_input\n",
    "\n",
    "# Data generator\n",
    "datagen = ImageDataGenerator(preprocessing_function=preprocess_input, horizontal_flip=True, validation_split=0.2)\n",
    "train_generator = datagen.flow_from_directory(folder, target_size=(224, 150), batch_size=52, class_mode='categorical', subset='training')\n",
    "test_generator = datagen.flow_from_directory(folder, target_size=(224, 150), batch_size=52, class_mode='categorical', subset='validation')\n",
    "\n",
    "print(test_generator.class_indices)\n"
   ]
  },
  {
   "cell_type": "code",
   "execution_count": 5,
   "metadata": {},
   "outputs": [
    {
     "name": "stderr",
     "output_type": "stream",
     "text": [
      "/var/folders/vb/vzpmbxtd0j3gyd335m8bdw_h0000gn/T/ipykernel_14465/3671890123.py:1: UserWarning: `Model.fit_generator` is deprecated and will be removed in a future version. Please use `Model.fit`, which supports generators.\n",
      "  history = model.fit_generator(train_generator, epochs=10, validation_data=test_generator)\n"
     ]
    },
    {
     "name": "stdout",
     "output_type": "stream",
     "text": [
      "Epoch 1/10\n",
      "40/40 [==============================] - 233s 6s/step - loss: 24.1623 - accuracy: 0.6442 - val_loss: 0.8988 - val_accuracy: 0.9404\n",
      "Epoch 2/10\n",
      "40/40 [==============================] - 231s 6s/step - loss: 0.5489 - accuracy: 0.9678 - val_loss: 0.4100 - val_accuracy: 0.9788\n",
      "Epoch 3/10\n",
      "40/40 [==============================] - 232s 6s/step - loss: 0.2651 - accuracy: 0.9846 - val_loss: 0.2555 - val_accuracy: 0.9827\n",
      "Epoch 4/10\n",
      "40/40 [==============================] - 307s 8s/step - loss: 0.1351 - accuracy: 0.9923 - val_loss: 0.4110 - val_accuracy: 0.9750\n",
      "Epoch 5/10\n",
      "40/40 [==============================] - 271s 7s/step - loss: 0.3004 - accuracy: 0.9865 - val_loss: 0.3127 - val_accuracy: 0.9808\n",
      "Epoch 6/10\n",
      "40/40 [==============================] - 1694s 43s/step - loss: 0.0856 - accuracy: 0.9937 - val_loss: 0.7966 - val_accuracy: 0.9596\n",
      "Epoch 7/10\n",
      "40/40 [==============================] - 230s 6s/step - loss: 0.3873 - accuracy: 0.9832 - val_loss: 0.2058 - val_accuracy: 0.9750\n",
      "Epoch 8/10\n",
      "40/40 [==============================] - 231s 6s/step - loss: 0.4315 - accuracy: 0.9827 - val_loss: 0.3954 - val_accuracy: 0.9769\n",
      "Epoch 9/10\n",
      "40/40 [==============================] - 2566s 66s/step - loss: 0.1428 - accuracy: 0.9904 - val_loss: 0.4365 - val_accuracy: 0.9788\n",
      "Epoch 10/10\n",
      "40/40 [==============================] - 508s 13s/step - loss: 0.0517 - accuracy: 0.9952 - val_loss: 0.2430 - val_accuracy: 0.9865\n"
     ]
    }
   ],
   "source": [
    "history = model.fit_generator(train_generator, epochs=10, validation_data=test_generator)"
   ]
  },
  {
   "cell_type": "code",
   "execution_count": 6,
   "metadata": {},
   "outputs": [],
   "source": [
    "model.save('model_fulldeck.h5')"
   ]
  },
  {
   "cell_type": "code",
   "execution_count": 21,
   "metadata": {},
   "outputs": [],
   "source": [
    "def decode_predictions_custom(preds, top=3, class_list=None):\n",
    "    if class_list is None:\n",
    "        class_list = ['C10', 'C2', 'C3', 'C4', 'C5', 'C6', 'C7', 'C8', 'C9', 'CA', 'CJ', 'CK', 'CQ', 'D10', 'D2', 'D3', 'D4', 'D5', 'D6', 'D7', 'D8', 'D9', 'DA', 'DJ', 'DK', 'DQ', 'H10', 'H2', 'H3', 'H4', 'H5', 'H6', 'H7', 'H8', 'H9', 'HA', 'HJ', 'HK', 'HQ', 'S10', 'S2', 'S3', 'S4', 'S5', 'S6', 'S7', 'S8', 'S9', 'SA', 'SJ', 'SK', 'SQ']\n",
    "        \n",
    "    results = []\n",
    "    for pred in preds:\n",
    "        top_indices = pred.argsort()[-top:][::-1]\n",
    "        result = [(class_list[i], pred[i]*100.0) for i in top_indices]\n",
    "        results.append(result)\n",
    "    return results"
   ]
  },
  {
   "cell_type": "code",
   "execution_count": 39,
   "metadata": {},
   "outputs": [
    {
     "name": "stdout",
     "output_type": "stream",
     "text": [
      "1/1 [==============================] - 0s 238ms/step\n",
      "[[('D9', 100.0), ('D8', 4.375835902393349e-12), ('D5', 2.922570188075124e-14)]]\n"
     ]
    }
   ],
   "source": [
    "import cv2\n",
    "import numpy as np\n",
    "\n",
    "from tensorflow.keras.preprocessing import image\n",
    "\n",
    "model = keras.models.load_model('model_fulldeck.h5')\n",
    "\n",
    "var = cv2.imread('Card 4.png')\n",
    "var_resized = cv2.resize(var, (150, 224))\n",
    "\n",
    "var_resized = image.img_to_array(var_resized)\n",
    "var_resized = np.expand_dims(var_resized, axis=0)\n",
    "var_resized = tf.keras.applications.imagenet_utils.preprocess_input(var_resized)\n",
    "prediction = model.predict(var_resized)\n",
    "\n",
    "decoded = decode_predictions_custom(prediction)\n",
    "print(decoded)\n"
   ]
  }
 ],
 "metadata": {
  "kernelspec": {
   "display_name": "Python 3",
   "language": "python",
   "name": "python3"
  },
  "language_info": {
   "codemirror_mode": {
    "name": "ipython",
    "version": 3
   },
   "file_extension": ".py",
   "mimetype": "text/x-python",
   "name": "python",
   "nbconvert_exporter": "python",
   "pygments_lexer": "ipython3",
   "version": "3.9.16"
  },
  "orig_nbformat": 4
 },
 "nbformat": 4,
 "nbformat_minor": 2
}

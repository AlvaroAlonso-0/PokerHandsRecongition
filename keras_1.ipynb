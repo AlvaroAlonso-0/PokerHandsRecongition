{
 "cells": [
  {
   "attachments": {},
   "cell_type": "markdown",
   "metadata": {},
   "source": [
    "All needed imports are done"
   ]
  },
  {
   "cell_type": "code",
   "execution_count": 1,
   "metadata": {},
   "outputs": [
    {
     "name": "stderr",
     "output_type": "stream",
     "text": [
      "2023-05-04 17:54:01.306674: I tensorflow/core/platform/cpu_feature_guard.cc:193] This TensorFlow binary is optimized with oneAPI Deep Neural Network Library (oneDNN) to use the following CPU instructions in performance-critical operations:  AVX2 FMA\n",
      "To enable them in other operations, rebuild TensorFlow with the appropriate compiler flags.\n"
     ]
    }
   ],
   "source": [
    "import tensorflow as tf\n",
    "import numpy as np\n",
    "from tensorflow import keras\n",
    "from keras import layers\n",
    "from keras.applications.vgg16 import VGG16\n",
    "\n",
    "from keras.models import Sequential\n",
    "from keras.layers import Dense, Flatten, GlobalAveragePooling2D\n",
    "from keras.preprocessing.image import ImageDataGenerator\n",
    "from keras.models import Model"
   ]
  },
  {
   "attachments": {},
   "cell_type": "markdown",
   "metadata": {},
   "source": [
    "TODO"
   ]
  },
  {
   "cell_type": "code",
   "execution_count": 7,
   "metadata": {},
   "outputs": [
    {
     "name": "stdout",
     "output_type": "stream",
     "text": [
      "Model: \"model_5\"\n",
      "_________________________________________________________________\n",
      " Layer (type)                Output Shape              Param #   \n",
      "=================================================================\n",
      " input_6 (InputLayer)        [(None, 224, 150, 3)]     0         \n",
      "                                                                 \n",
      " block1_conv1 (Conv2D)       (None, 224, 150, 64)      1792      \n",
      "                                                                 \n",
      " block1_conv2 (Conv2D)       (None, 224, 150, 64)      36928     \n",
      "                                                                 \n",
      " block1_pool (MaxPooling2D)  (None, 112, 75, 64)       0         \n",
      "                                                                 \n",
      " block2_conv1 (Conv2D)       (None, 112, 75, 128)      73856     \n",
      "                                                                 \n",
      " block2_conv2 (Conv2D)       (None, 112, 75, 128)      147584    \n",
      "                                                                 \n",
      " block2_pool (MaxPooling2D)  (None, 56, 37, 128)       0         \n",
      "                                                                 \n",
      " block3_conv1 (Conv2D)       (None, 56, 37, 256)       295168    \n",
      "                                                                 \n",
      " block3_conv2 (Conv2D)       (None, 56, 37, 256)       590080    \n",
      "                                                                 \n",
      " block3_conv3 (Conv2D)       (None, 56, 37, 256)       590080    \n",
      "                                                                 \n",
      " block3_pool (MaxPooling2D)  (None, 28, 18, 256)       0         \n",
      "                                                                 \n",
      " block4_conv1 (Conv2D)       (None, 28, 18, 512)       1180160   \n",
      "                                                                 \n",
      " block4_conv2 (Conv2D)       (None, 28, 18, 512)       2359808   \n",
      "                                                                 \n",
      " block4_conv3 (Conv2D)       (None, 28, 18, 512)       2359808   \n",
      "                                                                 \n",
      " block4_pool (MaxPooling2D)  (None, 14, 9, 512)        0         \n",
      "                                                                 \n",
      " block5_conv1 (Conv2D)       (None, 14, 9, 512)        2359808   \n",
      "                                                                 \n",
      " block5_conv2 (Conv2D)       (None, 14, 9, 512)        2359808   \n",
      "                                                                 \n",
      " block5_conv3 (Conv2D)       (None, 14, 9, 512)        2359808   \n",
      "                                                                 \n",
      " block5_pool (MaxPooling2D)  (None, 7, 4, 512)         0         \n",
      "                                                                 \n",
      " flatten_5 (Flatten)         (None, 14336)             0         \n",
      "                                                                 \n",
      " dense_10 (Dense)            (None, 256)               3670272   \n",
      "                                                                 \n",
      " dense_11 (Dense)            (None, 52)                13364     \n",
      "                                                                 \n",
      "=================================================================\n",
      "Total params: 18,398,324\n",
      "Trainable params: 3,683,636\n",
      "Non-trainable params: 14,714,688\n",
      "_________________________________________________________________\n"
     ]
    }
   ],
   "source": [
    "# Charge model VGC16 with imagenet weights\n",
    "model_vgc = VGG16(weights='imagenet', include_top=False, input_shape=(224, 150, 3))\n",
    "for(layer) in model_vgc.layers:\n",
    "    layer.trainable = False\n",
    "\n",
    "x = model_vgc.output\n",
    "x = Flatten()(x)\n",
    "x = Dense(256, activation='relu')(x)\n",
    "x = Dense(52, activation='softmax')(x)  \n",
    "\n",
    "model = Model(inputs=model_vgc.input, outputs=x)\n",
    "model.compile(optimizer='adam', loss='categorical_crossentropy', metrics=['accuracy'])\n",
    "model.summary()\n"
   ]
  },
  {
   "attachments": {},
   "cell_type": "markdown",
   "metadata": {},
   "source": [
    "TODO"
   ]
  },
  {
   "cell_type": "code",
   "execution_count": 8,
   "metadata": {},
   "outputs": [
    {
     "name": "stdout",
     "output_type": "stream",
     "text": [
      "Found 2080 images belonging to 52 classes.\n",
      "Found 520 images belonging to 52 classes.\n"
     ]
    }
   ],
   "source": [
    "folder = 'images/training/labeled/'\n",
    "from keras.applications.vgg16 import preprocess_input\n",
    "\n",
    "# Data generator\n",
    "datagen = ImageDataGenerator(preprocessing_function=preprocess_input, horizontal_flip=True, validation_split=0.2)\n",
    "train_generator = datagen.flow_from_directory(folder, target_size=(224, 150), batch_size=52, class_mode='categorical', subset='training')\n",
    "test_generator = datagen.flow_from_directory(folder, target_size=(224, 150), batch_size=52, class_mode='categorical', subset='validation')"
   ]
  },
  {
   "attachments": {},
   "cell_type": "markdown",
   "metadata": {},
   "source": [
    "TODO"
   ]
  },
  {
   "cell_type": "code",
   "execution_count": 10,
   "metadata": {},
   "outputs": [
    {
     "name": "stdout",
     "output_type": "stream",
     "text": [
      "Epoch 1/5\n",
      "40/40 [==============================] - 226s 6s/step - loss: 5.1617 - accuracy: 0.6841 - val_loss: 0.3342 - val_accuracy: 0.9346\n",
      "Epoch 2/5\n",
      "40/40 [==============================] - 221s 6s/step - loss: 0.1547 - accuracy: 0.9659 - val_loss: 0.2244 - val_accuracy: 0.9654\n",
      "Epoch 3/5\n",
      "40/40 [==============================] - 220s 6s/step - loss: 0.0863 - accuracy: 0.9832 - val_loss: 0.1177 - val_accuracy: 0.9654\n",
      "Epoch 4/5\n",
      "40/40 [==============================] - 221s 6s/step - loss: 0.0630 - accuracy: 0.9880 - val_loss: 0.2047 - val_accuracy: 0.9673\n",
      "Epoch 5/5\n",
      "40/40 [==============================] - 221s 6s/step - loss: 0.0413 - accuracy: 0.9894 - val_loss: 0.1876 - val_accuracy: 0.9731\n"
     ]
    }
   ],
   "source": [
    "history = model.fit(train_generator, epochs=5, validation_data=test_generator)\n",
    "model.save('model_fulldeck.h5')\n",
    "np.save('history.npy',history.history)"
   ]
  },
  {
   "cell_type": "code",
   "execution_count": 21,
   "metadata": {},
   "outputs": [],
   "source": [
    "def decode_predictions_custom(preds, top=3, class_list=None):\n",
    "    if class_list is None:\n",
    "        class_list = ['C10', 'C2', 'C3', 'C4', 'C5', 'C6', 'C7', 'C8', 'C9', 'CA', 'CJ', 'CK', 'CQ', 'D10', 'D2', 'D3', 'D4', 'D5', 'D6', 'D7', 'D8', 'D9', 'DA', 'DJ', 'DK', 'DQ', 'H10', 'H2', 'H3', 'H4', 'H5', 'H6', 'H7', 'H8', 'H9', 'HA', 'HJ', 'HK', 'HQ', 'S10', 'S2', 'S3', 'S4', 'S5', 'S6', 'S7', 'S8', 'S9', 'SA', 'SJ', 'SK', 'SQ']\n",
    "        \n",
    "    results = []\n",
    "    for pred in preds:\n",
    "        top_indices = pred.argsort()[-top:][::-1]\n",
    "        result = [(class_list[i], pred[i]*100.0) for i in top_indices]\n",
    "        results.append(result)\n",
    "    return results"
   ]
  },
  {
   "cell_type": "code",
   "execution_count": 39,
   "metadata": {},
   "outputs": [
    {
     "name": "stdout",
     "output_type": "stream",
     "text": [
      "1/1 [==============================] - 0s 238ms/step\n",
      "[[('D9', 100.0), ('D8', 4.375835902393349e-12), ('D5', 2.922570188075124e-14)]]\n"
     ]
    }
   ],
   "source": [
    "import cv2\n",
    "import numpy as np\n",
    "\n",
    "from tensorflow.keras.preprocessing import image\n",
    "\n",
    "model = keras.models.load_model('model_fulldeck.h5')\n",
    "\n",
    "var = cv2.imread('Card 4.png')\n",
    "var_resized = cv2.resize(var, (150, 224))\n",
    "\n",
    "var_resized = image.img_to_array(var_resized)\n",
    "var_resized = np.expand_dims(var_resized, axis=0)\n",
    "var_resized = tf.keras.applications.imagenet_utils.preprocess_input(var_resized)\n",
    "prediction = model.predict(var_resized)\n",
    "\n",
    "decoded = decode_predictions_custom(prediction)\n",
    "print(decoded)\n"
   ]
  },
  {
   "cell_type": "code",
   "execution_count": 17,
   "metadata": {},
   "outputs": [
    {
     "data": {
      "image/png": "[encoded data removed]",
      "text/plain": [
       "<Figure size 432x288 with 1 Axes>"
      ]
     },
     "metadata": {
      "needs_background": "light"
     },
     "output_type": "display_data"
    },
    {
     "data": {
      "image/png": "[encoded data removed]",
      "text/plain": [
       "<Figure size 432x288 with 1 Axes>"
      ]
     },
     "metadata": {
      "needs_background": "light"
     },
     "output_type": "display_data"
    }
   ],
   "source": [
    "import matplotlib.pyplot as plt\n",
    "\n",
    "history=np.load('history.npy',allow_pickle=True).item()\n",
    "\n",
    "# Plot the loss and val_loss\n",
    "plt.figure(1)\n",
    "plt.plot(history['loss'])\n",
    "plt.plot(history['val_loss'])\n",
    "plt.title('Model loss')\n",
    "plt.ylabel('Loss')\n",
    "plt.xlabel('Epoch')\n",
    "plt.legend(['loss', 'val_loss'], loc='upper right')\n",
    "\n",
    "# Plot the accuracy and val_accuracy\n",
    "plt.figure(2)\n",
    "plt.plot(history['accuracy'], color='green')\n",
    "plt.plot(history['val_accuracy'], color='red')\n",
    "plt.title('Model accuracy')\n",
    "plt.ylabel('Accuracy')\n",
    "plt.xlabel('Epoch')\n",
    "plt.legend(['accuracy', 'val_accuracy'], loc='lower right')\n",
    "\n",
    "# Show the plots\n",
    "plt.show()\n"
   ]
  }
 ],
 "metadata": {
  "kernelspec": {
   "display_name": "Python 3",
   "language": "python",
   "name": "python3"
  },
  "language_info": {
   "codemirror_mode": {
    "name": "ipython",
    "version": 3
   },
   "file_extension": ".py",
   "mimetype": "text/x-python",
   "name": "python",
   "nbconvert_exporter": "python",
   "pygments_lexer": "ipython3",
   "version": "3.9.16"
  },
  "orig_nbformat": 4
 },
 "nbformat": 4,
 "nbformat_minor": 2
}
